{
 "cells": [
  {
   "cell_type": "code",
   "execution_count": 72,
   "id": "dd8c630b-d294-4a4f-b5bc-e84077bf3c12",
   "metadata": {},
   "outputs": [],
   "source": [
    "from string import ascii_lowercase\n",
    "import random"
   ]
  },
  {
   "cell_type": "code",
   "execution_count": 23,
   "id": "7f35a667-7dcd-4a60-a351-48cb7d9b0776",
   "metadata": {},
   "outputs": [],
   "source": [
    "# uniformly random size assigned\n",
    "\n",
    "# size of each family\n",
    "fam = {}\n",
    "# name for all people\n",
    "# EX: three members for family A, their names will be A1, A2, A3\n",
    "people = []\n",
    "# total number of the residents\n",
    "total_residents = 0\n",
    "\n",
    "# assign the family size randomly\n",
    "for c in ascii_lowercase:\n",
    "    members_cnt = random.randint(1, 10)\n",
    "    fam[c] = members_cnt\n",
    "    total_residents += members_cnt\n",
    "    \n",
    "# give names to people based on the family size\n",
    "for key, value in fam.items():\n",
    "    for i in range(value):\n",
    "        name = key+str(i+1)\n",
    "        people.append(name)\n",
    "        \n",
    "# shuffle the list\n",
    "random.shuffle(people)"
   ]
  },
  {
   "cell_type": "code",
   "execution_count": 28,
   "id": "42887a4e-c281-49df-ae8c-186eef12a137",
   "metadata": {},
   "outputs": [
    {
     "name": "stdout",
     "output_type": "stream",
     "text": [
      "Actual average family size of the town:  5.3076923076923075\n"
     ]
    }
   ],
   "source": [
    "# this is how I think the average family size should be calculated\n",
    "actual_mean_size = total_residents / len(fam)\n",
    "print(\"Actual average family size of the town: \", actual_mean_size)"
   ]
  },
  {
   "cell_type": "code",
   "execution_count": 34,
   "id": "57b08ee0-24b5-4d4c-97e4-acf1d8013110",
   "metadata": {},
   "outputs": [
    {
     "name": "stdout",
     "output_type": "stream",
     "text": [
      "Calculated average family size of the town:  7.304347826086956\n"
     ]
    }
   ],
   "source": [
    "# the sampling strategy, n is the sampling size\n",
    "# n = total_residents * 2/3\n",
    "n = int(total_residents * (2/3))\n",
    "sample_list = random.sample(people, n)\n",
    "\n",
    "total_cnt = 0\n",
    "for person in sample_list:\n",
    "    fam_from = person[0]\n",
    "    total_cnt += fam[fam_from]\n",
    "    \n",
    "calculated_mean = total_cnt / n\n",
    "print(\"Calculated average family size of the town: \", calculated_mean)"
   ]
  },
  {
   "cell_type": "code",
   "execution_count": 97,
   "id": "ede7c927-802c-42b6-9bb4-f5be5d7d9066",
   "metadata": {},
   "outputs": [
    {
     "name": "stdout",
     "output_type": "stream",
     "text": [
      "Actual average:  4.588\n"
     ]
    }
   ],
   "source": [
    "# randomly assign size with weights\n",
    "\n",
    "size_list = range(1, 11)\n",
    "weights = [10, 15, 30, 30, 30, 30, 15, 5, 5, 5]\n",
    "fam_size = random.choices(size_list, weights, k=500)\n",
    "\n",
    "print(\"Actual average: \", sum(fam_size)/len(fam_size))"
   ]
  },
  {
   "cell_type": "code",
   "execution_count": 98,
   "id": "7e78847b-56a6-4615-a23e-42485bec5e83",
   "metadata": {},
   "outputs": [
    {
     "name": "stdout",
     "output_type": "stream",
     "text": [
      "Calculated average family size of the town:  5.568999345977764\n"
     ]
    }
   ],
   "source": [
    "people = []\n",
    "# instead of assigning names, simply assign the number of size\n",
    "# EX: if this family size is 4, append four 4 elements to the list\n",
    "for fam in fam_size:\n",
    "    for i in range(fam):\n",
    "        people.append(fam)\n",
    "        \n",
    "n = int(sum(fam_size) * (2/3))\n",
    "sample_list = random.sample(people, n)\n",
    "        \n",
    "total_cnt = 0\n",
    "for person in sample_list:\n",
    "    total_cnt += person\n",
    "    \n",
    "print(\"Calculated average family size of the town: \", total_cnt / n)"
   ]
  }
 ],
 "metadata": {
  "kernelspec": {
   "display_name": "Python 3 (ipykernel)",
   "language": "python",
   "name": "python3"
  },
  "language_info": {
   "codemirror_mode": {
    "name": "ipython",
    "version": 3
   },
   "file_extension": ".py",
   "mimetype": "text/x-python",
   "name": "python",
   "nbconvert_exporter": "python",
   "pygments_lexer": "ipython3",
   "version": "3.8.5"
  }
 },
 "nbformat": 4,
 "nbformat_minor": 5
}
